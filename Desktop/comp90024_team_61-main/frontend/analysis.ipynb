{
 "cells": [
  {
   "cell_type": "code",
   "execution_count": 1,
   "id": "23b09985",
   "metadata": {},
   "outputs": [],
   "source": [
    "import ipywidgets as widgets\n",
    "from IPython.display import display, clear_output\n",
    "import plotly.express as px\n",
    "import matplotlib.pyplot as plt\n",
    "from wordcloud import WordCloud\n",
    "import requests\n",
    "import pandas as pd"
   ]
  },
  {
   "cell_type": "markdown",
   "id": "fecc08a0",
   "metadata": {},
   "source": [
    "kubectl port-forward svc/scenario3 5000:5000  \n",
    "kubectl port-forward svc/scenario4 5002:5000  \n",
    "kubectl port-forward svc/scenario5 5001:5000  \n",
    "kubectl port-forward service/router -n fission 9090:80  \n",
    "kubectl port-forward service/elasticsearch-master -n elastic 9200:9200  \n",
    "\n",
    "To run these visualizations successfully you need to run the commands above in separate terminals."
   ]
  },
  {
   "cell_type": "markdown",
   "id": "9e9efafc",
   "metadata": {},
   "source": [
    "### TOPIC 1"
   ]
  },
  {
   "cell_type": "code",
   "execution_count": 11,
   "id": "37cc9c1c",
   "metadata": {},
   "outputs": [],
   "source": [
    "platform_dropdown = widgets.Dropdown(\n",
    "    options=[(\"All\", \"all\"),\n",
    "             (\"Bluesky\", \"bluesky\"),\n",
    "             (\"Mastodon\", \"mastodon\"),\n",
    "             (\"Reddit\", \"reddit\")],\n",
    "    value=\"all\",\n",
    "    description=\"Platform:\"\n",
    ")\n",
    "\n",
    "plot_type_dropdown = widgets.Dropdown(\n",
    "    options=[(\"Histogram\", \"hist\"),\n",
    "             (\"Boxplot\", \"box\"),\n",
    "             (\"Both\", \"both\")],\n",
    "    value=\"both\",\n",
    "    description=\"Plot type:\"\n",
    ")\n",
    "\n",
    "button = widgets.Button(description=\"Generate plot\", button_style=\"info\")\n",
    "out = widgets.Output()"
   ]
  },
  {
   "cell_type": "code",
   "execution_count": 12,
   "id": "6ba16fb5",
   "metadata": {},
   "outputs": [],
   "source": [
    "def plot_sentiment_diff(df, plot_type=\"both\"):\n",
    "    if df.empty:\n",
    "        print(\"No data for current selection.\")\n",
    "        return\n",
    "    if plot_type in (\"hist\", \"both\"):\n",
    "        fig = px.histogram(df, x=\"sentiment_diff\",\n",
    "                           nbins=30,\n",
    "                           title=\"Histogram – sentiment_diff\")\n",
    "        fig.show()\n",
    "    if plot_type in (\"box\", \"both\"):\n",
    "        fig = px.box(df, y=\"sentiment_diff\",\n",
    "                     points=\"all\",\n",
    "                     title=\"Boxplot – sentiment_diff\")\n",
    "        fig.show()"
   ]
  },
  {
   "cell_type": "code",
   "execution_count": 13,
   "id": "f2d2030a",
   "metadata": {},
   "outputs": [],
   "source": [
    "def on_click_generate_plot(b):\n",
    "    print(\"✅ Button clicked!\") \n",
    "    with out:\n",
    "        clear_output(wait=True)\n",
    "        platform = platform_dropdown.value\n",
    "        ptype    = plot_type_dropdown.value\n",
    "\n",
    "        url = f\"http://localhost:9090/sentiment-diff/platform/{platform}/index/search_all\"\n",
    "\n",
    "\n",
    "        try:\n",
    "            print(f\"Fetching data from {url}\")\n",
    "            response = requests.get(url)\n",
    "            response.raise_for_status()\n",
    "\n",
    "            json_data = response.json()\n",
    "            df = pd.DataFrame(json_data[\"data\"])  \n",
    "        except requests.RequestException as e:\n",
    "            print(f\"❌ API Error: {e}\")\n",
    "            return\n",
    "        \n",
    "        except ValueError as e:\n",
    "            print(e)\n",
    "            return\n",
    "        except Exception as e:\n",
    "            print(f\"❌ Error fetching data: {e}\")\n",
    "            return\n",
    "        \n",
    "        if df.empty:\n",
    "            print(\"No data returned from API.\")\n",
    "            return\n",
    "\n",
    "        plot_sentiment_diff(df, plot_type=ptype)\n",
    "try:\n",
    "    button._click_handlers.callbacks.clear()\n",
    "except AttributeError:\n",
    "    pass\n",
    "\n",
    "button.on_click(on_click_generate_plot)"
   ]
  },
  {
   "cell_type": "code",
   "execution_count": 14,
   "id": "e6adc3d0",
   "metadata": {},
   "outputs": [
    {
     "data": {
      "application/vnd.jupyter.widget-view+json": {
       "model_id": "2f296743572741928f82404e671a84a9",
       "version_major": 2,
       "version_minor": 0
      },
      "text/plain": [
       "HBox(children=(Dropdown(description='Platform:', options=(('All', 'all'), ('Bluesky', 'bluesky'), ('Mastodon',…"
      ]
     },
     "metadata": {},
     "output_type": "display_data"
    },
    {
     "data": {
      "application/vnd.jupyter.widget-view+json": {
       "model_id": "43f1dc48e3a04b75a8de8bca66d5c631",
       "version_major": 2,
       "version_minor": 0
      },
      "text/plain": [
       "Button(button_style='info', description='Generate plot', style=ButtonStyle())"
      ]
     },
     "metadata": {},
     "output_type": "display_data"
    },
    {
     "data": {
      "application/vnd.jupyter.widget-view+json": {
       "model_id": "c5d170f7440d494185d357f3cedcc7fe",
       "version_major": 2,
       "version_minor": 0
      },
      "text/plain": [
       "Output()"
      ]
     },
     "metadata": {},
     "output_type": "display_data"
    }
   ],
   "source": [
    "display(widgets.HBox([platform_dropdown, plot_type_dropdown]), button, out)"
   ]
  },
  {
   "cell_type": "markdown",
   "id": "eba4fd91",
   "metadata": {},
   "source": [
    "### TOPIC 2"
   ]
  },
  {
   "cell_type": "code",
   "execution_count": 27,
   "id": "595ec17e",
   "metadata": {},
   "outputs": [],
   "source": [
    "start_picker  = widgets.DatePicker(description=\"Start\")\n",
    "end_picker    = widgets.DatePicker(description=\"End\")\n",
    "k_dropdown    = widgets.Dropdown(options=[3,5,10], value=5, description=\"Top-K\")\n",
    "platform_dd   = widgets.Dropdown(\n",
    "    options=[(\"All\", \"all\"),\n",
    "             (\"Bluesky\", \"bluesky\"),\n",
    "             (\"Mastodon\", \"mastodon\"),\n",
    "             (\"Reddit\", \"reddit\")],\n",
    "    value=\"all\",\n",
    "    description=\"Platform\"\n",
    ")\n",
    "run_btn = widgets.Button(description=\"Generate\", button_style=\"info\")\n",
    "out     = widgets.Output()\n"
   ]
  },
  {
   "cell_type": "code",
   "execution_count": 28,
   "id": "57fee84d",
   "metadata": {},
   "outputs": [],
   "source": [
    "def on_generate(b):\n",
    "    with out:\n",
    "        clear_output(wait=True)\n",
    "        if not start_picker.value or not end_picker.value:\n",
    "            print(\"Please select Start & End date\"); \n",
    "            return\n",
    "\n",
    "        start = start_picker.value.isoformat()\n",
    "        end   = end_picker.value.isoformat()\n",
    "        k     = k_dropdown.value\n",
    "        plat  = platform_dd.value\n",
    "\n",
    "        url = f\"http://localhost:9090/sentiment-trends/start/{start}/end/{end}/k/{k}/platform/{plat}/index/search_all\"\n",
    "\n",
    "        try:\n",
    "            print(f\"Fetching data from {url}\")\n",
    "            response = requests.get(url)\n",
    "            response.raise_for_status()\n",
    "            json_data = response.json()\n",
    "            df = pd.DataFrame(json_data[\"data\"])\n",
    "        except requests.RequestException as e:\n",
    "            print(f\"❌ API Error: {e}\")\n",
    "            return\n",
    "        except ValueError as e:\n",
    "            print(e); return\n",
    "        if df.empty:\n",
    "            print(\"No data returned from API.\")\n",
    "            return\n",
    "\n",
    "        fig = px.line(df, x=\"timestamp\", y=\"score\",\n",
    "                      color=\"post_id\",\n",
    "                      title=f\"Top {k} sentiment trend – {plat}\")\n",
    "        fig.update_layout(legend=dict(orientation=\"h\", yanchor=\"bottom\", \n",
    "                                      y=1.1, xanchor=\"center\", x=0.8),\n",
    "                          legend_title_text=\"post_id\")\n",
    "\n",
    "        fig.show()\n",
    "\n",
    "run_btn.on_click(on_generate)\n"
   ]
  },
  {
   "cell_type": "code",
   "execution_count": 29,
   "id": "874b245c",
   "metadata": {},
   "outputs": [
    {
     "data": {
      "application/vnd.jupyter.widget-view+json": {
       "model_id": "830c222abd58482b84290ec62c33734a",
       "version_major": 2,
       "version_minor": 0
      },
      "text/plain": [
       "HBox(children=(DatePicker(value=None, description='Start', step=1), DatePicker(value=None, description='End', …"
      ]
     },
     "metadata": {},
     "output_type": "display_data"
    },
    {
     "data": {
      "application/vnd.jupyter.widget-view+json": {
       "model_id": "19859a53135d49d2966e24e7fddbfe7c",
       "version_major": 2,
       "version_minor": 0
      },
      "text/plain": [
       "Output()"
      ]
     },
     "metadata": {},
     "output_type": "display_data"
    }
   ],
   "source": [
    "display(widgets.HBox([start_picker, end_picker, k_dropdown, platform_dd, run_btn]), out)"
   ]
  },
  {
   "cell_type": "markdown",
   "id": "c2440fa3",
   "metadata": {},
   "source": [
    "### TOPIC 3"
   ]
  },
  {
   "cell_type": "code",
   "execution_count": 2,
   "id": "58f828c3",
   "metadata": {},
   "outputs": [],
   "source": [
    "start_d   = widgets.DatePicker(description=\"Start\")\n",
    "end_d     = widgets.DatePicker(description=\"End\")\n",
    "platforms = [\"all\", \"bluesky\", \"mastodon\", \"reddit\"]\n",
    "plat_dd   = widgets.Dropdown(options=platforms, value=\"all\", description=\"Platform\")\n",
    "run_btn   = widgets.Button(description=\"Generate\", button_style=\"info\")\n",
    "out       = widgets.Output()"
   ]
  },
  {
   "cell_type": "code",
   "execution_count": 4,
   "id": "615647d6",
   "metadata": {},
   "outputs": [],
   "source": [
    "def on_generate(b):\n",
    "    with out:\n",
    "        clear_output(wait=True)\n",
    "        if not start_d.value or not end_d.value:\n",
    "            print(\"Please select Start & End date\")\n",
    "            return\n",
    "\n",
    "        start = start_d.value.isoformat()\n",
    "        end   = end_d.value.isoformat()\n",
    "        plat  = plat_dd.value\n",
    "\n",
    "        payload = {\n",
    "            \"index_name\": \"search_all\",\n",
    "            \"start\": start,\n",
    "            \"end\": end,\n",
    "            \"platform\": plat\n",
    "        }\n",
    "\n",
    "        try:\n",
    "            response = requests.post(\"http://localhost:5000/scenario3\", json=payload)\n",
    "            response.raise_for_status()\n",
    "            result = response.json()\n",
    "\n",
    "            if \"error\" in result:\n",
    "                print(result[\"error\"])\n",
    "                return\n",
    "\n",
    "            df = pd.DataFrame(result)\n",
    "            if df.empty:\n",
    "                print(\" No data returned.\")\n",
    "                return\n",
    "\n",
    "            # Plot\n",
    "            fig = px.line(df, x=\"date\", y=\"avg_score\",\n",
    "                          title=f\"Trump daily sentiment – {plat}\",\n",
    "                          markers=True)\n",
    "            \n",
    "            fig.update_layout(\n",
    "                yaxis_title=\"Average sentiment\",\n",
    "                              xaxis_title=\"Date\"\n",
    "            )\n",
    "            fig.show()\n",
    "\n",
    "        except Exception as e:\n",
    "            print(\"Error:\", e)\n",
    "\n",
    "run_btn.on_click(on_generate)"
   ]
  },
  {
   "cell_type": "code",
   "execution_count": 5,
   "id": "3271ac66",
   "metadata": {},
   "outputs": [
    {
     "data": {
      "application/vnd.jupyter.widget-view+json": {
       "model_id": "cef7220cf9684e06bbb8e63ad0eea7fe",
       "version_major": 2,
       "version_minor": 0
      },
      "text/plain": [
       "HBox(children=(DatePicker(value=None, description='Start', step=1), DatePicker(value=None, description='End', …"
      ]
     },
     "metadata": {},
     "output_type": "display_data"
    },
    {
     "data": {
      "application/vnd.jupyter.widget-view+json": {
       "model_id": "b07e184ce43b4cf8a3451f0119b48203",
       "version_major": 2,
       "version_minor": 0
      },
      "text/plain": [
       "Output()"
      ]
     },
     "metadata": {},
     "output_type": "display_data"
    }
   ],
   "source": [
    "display(widgets.HBox([start_d, end_d, plat_dd, run_btn]), out)"
   ]
  },
  {
   "cell_type": "markdown",
   "id": "3fce3432",
   "metadata": {},
   "source": [
    "### TOPIC 4"
   ]
  },
  {
   "cell_type": "code",
   "execution_count": null,
   "id": "114f6fd4",
   "metadata": {},
   "outputs": [],
   "source": [
    "# Platform Summary (Average Sentiment / Std / Post Volume)\n",
    "start_dp = widgets.DatePicker(description=\"Start\")\n",
    "end_dp   = widgets.DatePicker(description=\"End\")\n",
    "btn_sum  = widgets.Button(description=\"Generate Summary\", button_style=\"info\")\n",
    "out_sum  = widgets.Output()"
   ]
  },
  {
   "cell_type": "code",
   "execution_count": null,
   "id": "16aa6e8c",
   "metadata": {},
   "outputs": [],
   "source": [
    "def gen_summary(_):\n",
    "    with out_sum:\n",
    "        clear_output(wait=True)\n",
    "        start = start_dp.value.isoformat() if start_dp.value else None\n",
    "        end   = end_dp.value.isoformat()   if end_dp.value else None\n",
    "\n",
    "        try:\n",
    "            res = requests.post(\"http://localhost:5002/platform_summary\", json={\n",
    "                \"start\": start,\n",
    "                \"end\": end\n",
    "            })\n",
    "            res.raise_for_status()\n",
    "            data = res.json()\n",
    "\n",
    "            if \"error\" in data or not data:\n",
    "                print(\"No data or error returned:\", data.get(\"error\", \"No records found.\"))\n",
    "                return\n",
    "\n",
    "            df = pd.DataFrame(data)\n",
    "\n",
    "            # Plot 1: Average sentiment ± std\n",
    "            fig1 = px.bar(df, x=\"platform\", y=\"avg\",\n",
    "                          error_y=\"std\",\n",
    "                          title=\"Average sentiment ± std\")\n",
    "\n",
    "            # Plot 2: Post volume\n",
    "            fig2 = px.bar(df, x=\"platform\", y=\"count\",\n",
    "                          title=\"Post volume\")\n",
    "\n",
    "            fig1.show()\n",
    "            fig2.show()\n",
    "\n",
    "        except Exception as e:\n",
    "            print(f\"Error: {e}\")\n",
    "\n",
    "btn_sum.on_click(gen_summary)"
   ]
  },
  {
   "cell_type": "code",
   "execution_count": null,
   "id": "bc6fc1ce",
   "metadata": {},
   "outputs": [],
   "source": [
    "display(widgets.HBox([start_dp, end_dp, btn_sum]), out_sum)"
   ]
  },
  {
   "cell_type": "code",
   "execution_count": null,
   "id": "d3fdaa69",
   "metadata": {},
   "outputs": [],
   "source": [
    "start_dp = widgets.DatePicker(description=\"Start\")\n",
    "end_dp   = widgets.DatePicker(description=\"End\")\n",
    "plat_dd  = widgets.Dropdown(options=[\"reddit\", \"mastodon\", \"bluesky\"],\n",
    "                      value=\"reddit\", description=\"Platform\")\n",
    "win_sl   = widgets.IntSlider(value=7, min=3, max=30, step=1,\n",
    "                       description=\"Window (days)\")\n",
    "btn_roll = widgets.Button(description=\"Rolling Plot\", button_style=\"info\")\n",
    "out_roll = widgets.Output()"
   ]
  },
  {
   "cell_type": "code",
   "execution_count": null,
   "id": "9d4b63a5",
   "metadata": {},
   "outputs": [],
   "source": [
    "def gen_roll(b):\n",
    "    with out_roll:\n",
    "        clear_output(wait=True)\n",
    "\n",
    "        platform = plat_dd.value\n",
    "        window = win_sl.value\n",
    "        start = start_dp.value.isoformat() if start_dp.value else None\n",
    "        end = end_dp.value.isoformat() if end_dp.value else None\n",
    "\n",
    "        try:\n",
    "            res = requests.post(\"http://localhost:5002/rolling_health\", json={\n",
    "                \"platform\": platform,\n",
    "                \"window_days\": window,\n",
    "                \"start\": start,\n",
    "                \"end\": end\n",
    "            })\n",
    "            res.raise_for_status()\n",
    "            data = res.json()\n",
    "\n",
    "            if \"error\" in data or not data:\n",
    "                print(\"No data or error returned:\", data.get(\"error\", \"No records found.\"))\n",
    "                return\n",
    "\n",
    "            df = pd.DataFrame(data)\n",
    "\n",
    "            df[\"date\"] = pd.to_datetime(df[\"date\"])  # ← ensure it's not a string\n",
    "\n",
    "            fig = px.line(df, x=\"date\", y=\"rolling_avg\",\n",
    "                        title=f\"{platform}: {window}-day rolling avg sentiment\",\n",
    "                        markers=True)\n",
    "\n",
    "            fig.add_scatter(x=df[\"date\"], y=df[\"rolling_std\"],\n",
    "                            mode=\"lines\", name=\"rolling_std\",\n",
    "                            line=dict(color=\"orange\", dash=\"dash\"))\n",
    "\n",
    "            fig.update_layout(\n",
    "                yaxis_title=\"Score / Std\",\n",
    "                xaxis_title=\"Date\",\n",
    "                xaxis_tickformat=\"%b %Y\",  # <-- this fixes the clutter\n",
    "                xaxis_tickangle=0\n",
    "            )\n",
    "\n",
    "            fig.show()\n",
    "        except Exception as e:\n",
    "            print(f\"Error: {e}\")\n",
    "            \n",
    "\n",
    "btn_roll.on_click(gen_roll)"
   ]
  },
  {
   "cell_type": "code",
   "execution_count": null,
   "id": "5b9404f7",
   "metadata": {},
   "outputs": [],
   "source": [
    "display(widgets.HBox([start_dp, end_dp,plat_dd, win_sl, btn_roll]), out_roll)"
   ]
  },
  {
   "cell_type": "markdown",
   "id": "4f215b92",
   "metadata": {},
   "source": [
    "### TOPIC 5"
   ]
  },
  {
   "cell_type": "code",
   "execution_count": null,
   "id": "cd339972",
   "metadata": {},
   "outputs": [],
   "source": [
    "start_d  = widgets.DatePicker(description=\"Start\")\n",
    "end_d    = widgets.DatePicker(description=\"End\")\n",
    "plat_dd  = widgets.Dropdown(options=[\"all\", \"reddit\", \"mastodon\", \"bluesky\"],\n",
    "                      value=\"all\", description=\"Platform\")\n",
    "ngram_dd = widgets.Dropdown(options=[(\"Unigram\",1), (\"Bigram\",2), (\"Trigram\",3)],\n",
    "                      value=1, description=\"N-gram\")\n",
    "method_dd = widgets.Dropdown(options=[(\"Frequency\",\"freq\"),\n",
    "                                (\"TF-IDF\",\"tfidf\")],\n",
    "                       value=\"freq\", description=\"Scoring\")\n",
    "slice_dd = widgets.Dropdown(options=[(\"All posts\",None),\n",
    "                               (\"Positive 25 %\",\"pos\"),\n",
    "                               (\"Negative 25 %\",\"neg\")],\n",
    "                      value=None, description=\"Sent slice\")\n",
    "top_n_s  = widgets.IntSlider(value=20, min=10, max=100, step=10,\n",
    "                       description=\"Top-N\")\n",
    "btn      = widgets.Button(description=\"Generate Word-Cloud\",\n",
    "                    button_style=\"info\")\n",
    "out      = widgets.Output()"
   ]
  },
  {
   "cell_type": "code",
   "execution_count": null,
   "id": "1a776b7f",
   "metadata": {},
   "outputs": [],
   "source": [
    "def on_click(_):\n",
    "    with out:\n",
    "        clear_output(wait=True)\n",
    "        if not start_d.value or not end_d.value:\n",
    "            print(\"Please select the start and end date\"); return\n",
    "\n",
    "        # Prepare API payload\n",
    "        payload = {\n",
    "            \"index_name\": \"search_all\",\n",
    "            \"start\": start_d.value.isoformat(),\n",
    "            \"end\": end_d.value.isoformat(),\n",
    "            \"platform\": plat_dd.value,\n",
    "            \"top_n\": top_n_s.value,\n",
    "            \"ngram\": ngram_dd.value,\n",
    "            \"method\": method_dd.value,\n",
    "            \"sentiment_slice\": slice_dd.value\n",
    "        }\n",
    "\n",
    "        try:\n",
    "            response = requests.post(\"http://localhost:5001/scenario5\", json=payload)\n",
    "            print(\"Response text:\", response.text)\n",
    "            response.raise_for_status()\n",
    "            data = response.json()\n",
    "            \n",
    "            if \"error\" in data:\n",
    "                print(data[\"error\"])\n",
    "                return\n",
    "\n",
    "            if not data:\n",
    "                print(\"No results found.\")\n",
    "                return\n",
    "\n",
    "            # Convert list of {\"term\": ..., \"score\": ...} to a dict\n",
    "            freqs = {item[\"term\"]: item[\"score\"] for item in data}\n",
    "\n",
    "            wc = WordCloud(width=900, height=450, background_color=\"white\")\n",
    "            wc.generate_from_frequencies(freqs)\n",
    "\n",
    "            plt.figure(figsize=(11,5))\n",
    "            plt.imshow(wc, interpolation=\"bilinear\")\n",
    "            plt.axis(\"off\")\n",
    "            title = (f\"{plat_dd.value}  {ngram_dd.label}  {method_dd.label}  \"\n",
    "                     f\"{'('+slice_dd.label+')' if slice_dd.value else ''}\\n\"\n",
    "                     f\"{start_d.value} → {end_d.value}\")\n",
    "            plt.title(title)\n",
    "            plt.show()\n",
    "\n",
    "        except Exception as e:\n",
    "            print( str(e))\n",
    "btn.on_click(on_click)"
   ]
  },
  {
   "cell_type": "code",
   "execution_count": null,
   "id": "f13260c4",
   "metadata": {},
   "outputs": [],
   "source": [
    "display(\n",
    "    widgets.VBox([\n",
    "        widgets.HBox([start_d, end_d]),\n",
    "        widgets.HBox([plat_dd, ngram_dd, method_dd, slice_dd, top_n_s]),\n",
    "        btn, out\n",
    "    ])\n",
    ")"
   ]
  }
 ],
 "metadata": {
  "kernelspec": {
   "display_name": "Python 3",
   "language": "python",
   "name": "python3"
  },
  "language_info": {
   "codemirror_mode": {
    "name": "ipython",
    "version": 3
   },
   "file_extension": ".py",
   "mimetype": "text/x-python",
   "name": "python",
   "nbconvert_exporter": "python",
   "pygments_lexer": "ipython3",
   "version": "3.12.10"
  }
 },
 "nbformat": 4,
 "nbformat_minor": 5
}

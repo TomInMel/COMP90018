{
 "cells": [
  {
   "cell_type": "code",
   "execution_count": 7,
   "id": "934ddec1",
   "metadata": {},
   "outputs": [
    {
     "name": "stdout",
     "output_type": "stream",
     "text": [
      "✅ Connected to Elasticsearch!\n",
      "Cluster name: elasticsearch\n",
      "Version: 8.5.1\n"
     ]
    }
   ],
   "source": [
    "from elasticsearch import Elasticsearch\n",
    "\n",
    "\n",
    "es = Elasticsearch(\n",
    "    \"https://localhost:9200\",\n",
    "    verify_certs=False,\n",
    "    ssl_show_warn=False,\n",
    "    basic_auth=(\"elastic\", \"elastic\") \n",
    ")\n",
    "\n",
    "try:\n",
    "    info = es.info()\n",
    "    print(\"✅ Connected to Elasticsearch!\")\n",
    "    print(f\"Cluster name: {info['cluster_name']}\")\n",
    "    print(f\"Version: {info['version']['number']}\")\n",
    "except Exception as e:\n",
    "    print(\"❌ Connection failed:\", e)"
   ]
  },
  {
   "cell_type": "code",
   "execution_count": 8,
   "id": "78a1980b",
   "metadata": {},
   "outputs": [],
   "source": [
    "# Define the mapping\n",
    "mapping_body = {\n",
    "    \"mappings\": {\n",
    "        \"properties\": {\n",
    "            \"type\": {\"type\": \"keyword\"},\n",
    "            \"id\": {\"type\": \"keyword\"},\n",
    "            \"post_id\": {\"type\": \"keyword\"},\n",
    "            \"title\": {\"type\": \"text\"},\n",
    "            \"platform\": {\"type\": \"keyword\"},\n",
    "            \"content\": {\"type\": \"text\"},\n",
    "            \"created_utc\": {\"type\": \"date\"},\n",
    "            \"author\": {\"type\": \"keyword\"},\n",
    "            \"num_comments\": {\"type\": \"integer\"},\n",
    "            \"like\": {\"type\": \"integer\"},\n",
    "            \"text_for_sentiment\": {\"type\": \"text\"},\n",
    "            \"sentiment_score\": {\"type\": \"float\"},\n",
    "            \"embedding\": {\n",
    "                \"type\": \"dense_vector\",\n",
    "                \"dims\": 384,\n",
    "                \"index\": True,\n",
    "                \"similarity\": \"cosine\"\n",
    "            }\n",
    "        }\n",
    "    }\n",
    "}"
   ]
  },
  {
   "cell_type": "code",
   "execution_count": 9,
   "id": "68639676",
   "metadata": {},
   "outputs": [],
   "source": [
    "index_name = \"search_all\"\n",
    "\n",
    "response = es.indices.create(index=index_name, body=mapping_body)\n"
   ]
  }
 ],
 "metadata": {
  "kernelspec": {
   "display_name": "Python 3",
   "language": "python",
   "name": "python3"
  },
  "language_info": {
   "codemirror_mode": {
    "name": "ipython",
    "version": 3
   },
   "file_extension": ".py",
   "mimetype": "text/x-python",
   "name": "python",
   "nbconvert_exporter": "python",
   "pygments_lexer": "ipython3",
   "version": "3.11.11"
  }
 },
 "nbformat": 4,
 "nbformat_minor": 5
}

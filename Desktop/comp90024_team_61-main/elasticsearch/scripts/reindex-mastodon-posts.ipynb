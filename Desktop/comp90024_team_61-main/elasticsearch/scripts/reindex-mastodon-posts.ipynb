{
 "cells": [
  {
   "cell_type": "code",
   "execution_count": 1,
   "id": "39804416",
   "metadata": {},
   "outputs": [
    {
     "name": "stdout",
     "output_type": "stream",
     "text": [
      "✅ Connected to Elasticsearch!\n",
      "Cluster name: elasticsearch\n",
      "Version: 8.5.1\n"
     ]
    }
   ],
   "source": [
    "from elasticsearch import Elasticsearch\n",
    "\n",
    "\n",
    "es = Elasticsearch(\n",
    "    \"https://localhost:9200\",\n",
    "    verify_certs=False,\n",
    "    ssl_show_warn=False,\n",
    "    basic_auth=(\"elastic\", \"elastic\") \n",
    ")\n",
    "\n",
    "try:\n",
    "    info = es.info()\n",
    "    print(\"✅ Connected to Elasticsearch!\")\n",
    "    print(f\"Cluster name: {info['cluster_name']}\")\n",
    "    print(f\"Version: {info['version']['number']}\")\n",
    "except Exception as e:\n",
    "    print(\"❌ Connection failed:\", e)"
   ]
  },
  {
   "cell_type": "code",
   "execution_count": null,
   "id": "8ebfa656",
   "metadata": {},
   "outputs": [
    {
     "name": "stderr",
     "output_type": "stream",
     "text": [
      "/var/folders/jj/5cvzryh12_z87_3sbb0x4wpm0000gn/T/ipykernel_45495/1390745525.py:41: DeprecationWarning: Passing transport options in the API method is deprecated. Use 'Elasticsearch.options()' instead.\n",
      "  response = es.reindex(\n"
     ]
    },
    {
     "name": "stdout",
     "output_type": "stream",
     "text": [
      "✅ Reindex completed.\n",
      "{'took': 3349, 'timed_out': False, 'total': 9972, 'updated': 0, 'created': 9972, 'deleted': 0, 'batches': 10, 'version_conflicts': 0, 'noops': 0, 'retries': {'bulk': 0, 'search': 0}, 'throttled_millis': 0, 'requests_per_second': -1.0, 'throttled_until_millis': 0, 'failures': []}\n"
     ]
    }
   ],
   "source": [
    "source_index = \"trump_posts_scored\"\n",
    "target_index = \"search_all\"\n",
    "\n",
    "reindex_body = {\n",
    "    \"source\": {\n",
    "        \"index\": source_index\n",
    "    },\n",
    "    \"dest\": {\n",
    "        \"index\": target_index\n",
    "    },\n",
    "    \"script\": {\n",
    "        \"source\": \"\"\"\n",
    "            if (!ctx._source.containsKey('bertweet_sentiment')) {\n",
    "                ctx.op = \"noop\";\n",
    "                return;\n",
    "            }\n",
    "            \n",
    "            if (ctx._source.containsKey('id')) {\n",
    "                ctx._source.id = ctx._source.id.toString();\n",
    "                ctx._id = ctx._source.id;\n",
    "            }\n",
    "\n",
    "            if (ctx._source.containsKey('type')) {\n",
    "                ctx._source.type = ctx._source.type.toString();\n",
    "                if (ctx._source.type == 'posts') {\n",
    "                    ctx._source.type = 'post';\n",
    "                }\n",
    "            }\n",
    "\n",
    "            if (ctx._source.containsKey('platform')) {\n",
    "                ctx._source.platform = ctx._source.platform.toString();\n",
    "            }\n",
    "\n",
    "            if (!ctx._source.containsKey('platform')) {\n",
    "                ctx._source.platform = 'mastodon';\n",
    "            }\n",
    "\n",
    "            if (ctx._source.containsKey('bertweet_sentiment')) {\n",
    "                ctx._source.sentiment_score = ctx._source.remove('bertweet_sentiment');\n",
    "            }\n",
    "\n",
    "            if (ctx._source.containsKey('num_likes')) {\n",
    "                ctx._source.like = ctx._source.remove('num_likes');\n",
    "            }\n",
    "        \"\"\"\n",
    "    }\n",
    "}\n",
    "\n",
    "try:\n",
    "    response = es.reindex(\n",
    "        body=reindex_body,\n",
    "        wait_for_completion=True,\n",
    "        refresh=True,\n",
    "        request_timeout=600\n",
    "    )\n",
    "    print(\"✅ Reindex completed.\")\n",
    "    print(response)\n",
    "except Exception as e:\n",
    "    print(\"❌ Reindex failed:\", e)"
   ]
  }
 ],
 "metadata": {
  "kernelspec": {
   "display_name": "Python 3",
   "language": "python",
   "name": "python3"
  },
  "language_info": {
   "codemirror_mode": {
    "name": "ipython",
    "version": 3
   },
   "file_extension": ".py",
   "mimetype": "text/x-python",
   "name": "python",
   "nbconvert_exporter": "python",
   "pygments_lexer": "ipython3",
   "version": "3.11.11"
  }
 },
 "nbformat": 4,
 "nbformat_minor": 5
}

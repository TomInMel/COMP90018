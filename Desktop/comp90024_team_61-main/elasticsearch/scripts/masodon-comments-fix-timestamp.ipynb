{
 "cells": [
  {
   "cell_type": "code",
   "execution_count": 1,
   "id": "4780d1f7",
   "metadata": {},
   "outputs": [
    {
     "name": "stdout",
     "output_type": "stream",
     "text": [
      "✅ Connected to Elasticsearch!\n",
      "Cluster name: elasticsearch\n",
      "Version: 8.5.1\n"
     ]
    }
   ],
   "source": [
    "from elasticsearch import Elasticsearch,helpers\n",
    "from tqdm import tqdm\n",
    "\n",
    "es = Elasticsearch(\n",
    "    \"https://localhost:9200\",\n",
    "    verify_certs=False,\n",
    "    ssl_show_warn=False,\n",
    "    basic_auth=(\"elastic\", \"elastic\") \n",
    ")\n",
    "\n",
    "try:\n",
    "    info = es.info()\n",
    "    print(\"✅ Connected to Elasticsearch!\")\n",
    "    print(f\"Cluster name: {info['cluster_name']}\")\n",
    "    print(f\"Version: {info['version']['number']}\")\n",
    "except Exception as e:\n",
    "    print(\"❌ Connection failed:\", e)"
   ]
  },
  {
   "cell_type": "code",
   "execution_count": 2,
   "id": "1052c69b",
   "metadata": {},
   "outputs": [
    {
     "data": {
      "text/plain": [
       "ObjectApiResponse({'acknowledged': True, 'shards_acknowledged': True, 'index': 'mastodon_comments_scored_fixed'})"
      ]
     },
     "execution_count": 2,
     "metadata": {},
     "output_type": "execute_result"
    }
   ],
   "source": [
    "source_index = \"trump_comments_scored\"\n",
    "reference_index = \"trump_comments\"\n",
    "target_index = \"mastodon_comments_scored_fixed\"\n",
    "\n",
    "es.indices.create(\n",
    "    index=target_index,\n",
    "    body={\n",
    "        \"mappings\": {\n",
    "            \"properties\": {\n",
    "                \"id\": {\"type\": \"keyword\"},\n",
    "                \"type\": {\"type\": \"keyword\"},\n",
    "                \"platform\": {\"type\": \"keyword\"},\n",
    "                \"content\": {\"type\": \"text\"},\n",
    "                \"author\": {\"type\": \"keyword\"},\n",
    "                \"like\": {\"type\": \"integer\"},\n",
    "                \"post_id\": {\"type\": \"keyword\"},\n",
    "                \"created_utc\": {\"type\": \"date\"},\n",
    "                \"text_for_sentiment\": {\"type\": \"text\"},\n",
    "                \"bertweet_sentiment\": {\"type\": \"float\"}\n",
    "            }\n",
    "        }\n",
    "    }\n",
    ")"
   ]
  },
  {
   "cell_type": "code",
   "execution_count": 3,
   "id": "60e59818",
   "metadata": {},
   "outputs": [
    {
     "name": "stdout",
     "output_type": "stream",
     "text": [
      "🔍 Total documents to process: 8837\n"
     ]
    },
    {
     "name": "stderr",
     "output_type": "stream",
     "text": [
      "100%|██████████| 8837/8837 [00:00<00:00, 23504.42it/s]"
     ]
    },
    {
     "name": "stdout",
     "output_type": "stream",
     "text": [
      "✅ Collected 8837 timestamps from reference index.\n",
      "1. id: mastodon_comment_114446733793395790, created_utc: 2025-05-04T00:29:27+00:00\n",
      "2. id: mastodon_comment_114446757491485020, created_utc: 2025-05-04T00:35:31.449000+00:00\n",
      "3. id: mastodon_comment_114444044485668385, created_utc: 2025-05-03T13:05:33+00:00\n",
      "4. id: mastodon_comment_114444208954877297, created_utc: 2025-05-03T13:47:23+00:00\n",
      "5. id: mastodon_comment_114444265124364022, created_utc: 2025-05-03T14:01:39+00:00\n"
     ]
    },
    {
     "name": "stderr",
     "output_type": "stream",
     "text": [
      "\n"
     ]
    }
   ],
   "source": [
    "reference_map = {}\n",
    "scroll = es.search(\n",
    "    index=reference_index,\n",
    "    scroll=\"2m\",\n",
    "    size=1000,\n",
    "    body={\"_source\": [\"id\", \"created_utc\"], \"query\": {\"match_all\": {}}}\n",
    ")\n",
    "\n",
    "scroll_id = scroll[\"_scroll_id\"]\n",
    "docs = scroll[\"hits\"][\"hits\"]\n",
    "\n",
    "total = scroll[\"hits\"][\"total\"][\"value\"]\n",
    "print(f\"🔍 Total documents to process: {total}\")\n",
    "\n",
    "pbar = tqdm(total=total)\n",
    "\n",
    "while docs:\n",
    "    for doc in docs:\n",
    "        source = doc[\"_source\"]\n",
    "        if \"id\" in source and \"created_utc\" in source:\n",
    "            reference_map[source[\"id\"]] = source[\"created_utc\"]\n",
    "            pbar.update(1)\n",
    "        else:\n",
    "            print(f\"⚠️ Missing fields in doc {doc.get('_id')}\")\n",
    "\n",
    "    scroll = es.scroll(scroll_id=scroll_id, scroll=\"2m\")\n",
    "    scroll_id = scroll[\"_scroll_id\"]\n",
    "    docs = scroll[\"hits\"][\"hits\"]\n",
    "\n",
    "pbar.close()\n",
    "print(f\"✅ Collected {len(reference_map)} timestamps from reference index.\")\n",
    "for i, (doc_id, created_utc) in enumerate(reference_map.items()):\n",
    "    print(f\"{i+1}. id: {doc_id}, created_utc: {created_utc}\")\n",
    "    if i >= 4:\n",
    "        break"
   ]
  },
  {
   "cell_type": "code",
   "execution_count": 4,
   "id": "b37a36a5",
   "metadata": {},
   "outputs": [
    {
     "name": "stderr",
     "output_type": "stream",
     "text": [
      "Reindexing: 100%|██████████| 8828/8828 [00:02<00:00, 2969.63it/s]"
     ]
    },
    {
     "name": "stdout",
     "output_type": "stream",
     "text": [
      "🎉 Finished fast reindexing to corrected mastodon_comments index.\n"
     ]
    },
    {
     "name": "stderr",
     "output_type": "stream",
     "text": [
      "\n"
     ]
    }
   ],
   "source": [
    "scroll = es.search(\n",
    "    index=source_index,\n",
    "    scroll=\"2m\",\n",
    "    size=1000,\n",
    "    body={\"query\": {\"match_all\": {}}}\n",
    ")\n",
    "scroll_id = scroll[\"_scroll_id\"]\n",
    "docs = scroll[\"hits\"][\"hits\"]\n",
    "total = scroll[\"hits\"][\"total\"][\"value\"]\n",
    "pbar = tqdm(total=total, desc=\"Reindexing\")\n",
    "\n",
    "actions = []\n",
    "\n",
    "\n",
    "while docs:\n",
    "    for doc in docs:\n",
    "        doc_id = doc[\"_source\"][\"id\"]\n",
    "        source = doc[\"_source\"]\n",
    "\n",
    "        if \"bertweet_sentiment\" not in source:\n",
    "            pbar.update(1)\n",
    "            continue\n",
    "\n",
    "        ref_created = reference_map.get(doc_id)\n",
    "        if ref_created:\n",
    "            source[\"created_utc\"] = ref_created\n",
    "        else:\n",
    "            pbar.update(1)\n",
    "            continue\n",
    "\n",
    "        action = {\n",
    "            \"_index\": target_index,\n",
    "            \"_id\": doc_id,\n",
    "            \"_source\": source\n",
    "        }\n",
    "        actions.append(action)\n",
    "\n",
    "        if len(actions) >= 1000:\n",
    "            helpers.bulk(es, actions)\n",
    "            actions = []\n",
    "\n",
    "        pbar.update(1)\n",
    "\n",
    "    scroll = es.scroll(scroll_id=scroll_id, scroll=\"2m\")\n",
    "    scroll_id = scroll[\"_scroll_id\"]\n",
    "    docs = scroll[\"hits\"][\"hits\"]\n",
    "\n",
    "if actions:\n",
    "    helpers.bulk(es, actions)\n",
    "\n",
    "pbar.close()\n",
    "print(\"🎉 Finished fast reindexing to corrected mastodon_comments index.\")"
   ]
  }
 ],
 "metadata": {
  "kernelspec": {
   "display_name": "Python 3",
   "language": "python",
   "name": "python3"
  },
  "language_info": {
   "codemirror_mode": {
    "name": "ipython",
    "version": 3
   },
   "file_extension": ".py",
   "mimetype": "text/x-python",
   "name": "python",
   "nbconvert_exporter": "python",
   "pygments_lexer": "ipython3",
   "version": "3.11.11"
  }
 },
 "nbformat": 4,
 "nbformat_minor": 5
}
